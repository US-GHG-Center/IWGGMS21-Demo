{
 "cells": [
  {
   "cell_type": "code",
   "execution_count": null,
   "id": "ca818089-38bc-416b-88df-bb08db9ad111",
   "metadata": {},
   "outputs": [],
   "source": [
    "# Install dependencies\n",
    "using Pkg\n",
    "Pkg.add([\"HDF5\", \"AWS\", \"AWSS3\"]);"
   ]
  },
  {
   "cell_type": "code",
   "execution_count": null,
   "id": "87d3533e-fbf0-4248-8564-f742d72ac679",
   "metadata": {},
   "outputs": [],
   "source": [
    "using HDF5\n",
    "using AWS\n",
    "using AWSS3"
   ]
  },
  {
   "cell_type": "code",
   "execution_count": null,
   "id": "c34bf9f6-e6a5-436b-a7ff-c02f581eed0d",
   "metadata": {},
   "outputs": [],
   "source": [
    "# Test a public file with https address via HDF5 module\n",
    "# (h5open does NOT \n",
    "h5 = h5open(\"http://s3.eu-central-1.amazonaws.com/rhdf5-public/h5ex_t_array.h5\"; driver=HDF5.Drivers.ROS3())\n",
    "h5[\"DS1\"][:]"
   ]
  },
  {
   "cell_type": "code",
   "execution_count": null,
   "id": "af8d77ee-6c4a-4e83-915a-d9cbaffd8848",
   "metadata": {},
   "outputs": [],
   "source": [
    "# This does NOT work, because Drivers.ROS3 only accepts a region with authentication (can't do public buckets this way)\n",
    "h5 = h5open(\"s3://rhdf5-public/h5ex_t_array.h5\"; driver=HDF5.Drivers.ROS3(\"eu-central-1\", \"\", \"\"))"
   ]
  },
  {
   "cell_type": "code",
   "execution_count": null,
   "id": "7f86fadf-7a81-4a59-ae64-6ace9ad70036",
   "metadata": {},
   "outputs": [],
   "source": [
    "# We could access our files like so:"
   ]
  },
  {
   "cell_type": "code",
   "execution_count": null,
   "id": "64acf035-62fc-4f80-94d7-01ec161cc137",
   "metadata": {},
   "outputs": [],
   "source": [
    "aws = global_aws_config() # get global AWS config"
   ]
  },
  {
   "cell_type": "code",
   "execution_count": null,
   "id": "b72437bd-ca4c-411c-bd00-7bf54c7598bc",
   "metadata": {},
   "outputs": [],
   "source": [
    "# needs the http-type URL\n",
    "url = \"http://s3.$(aws.region).amazonaws.com/nasa-ghg-hub-scratch/absco/o2_v52.hdf\""
   ]
  },
  {
   "cell_type": "code",
   "execution_count": null,
   "id": "24ecbebd-3fe4-419d-acde-41b61047865a",
   "metadata": {},
   "outputs": [],
   "source": [
    "# Something like this should work maybe, but clearly doesnt.\n",
    "# aws.credentials might not be what we want or need\n",
    "\n",
    "h5 = h5open(url; driver=HDF5.Drivers.ROS3(aws.region, aws.credentials.access_key_id, aws.credentials.secret_key))"
   ]
  },
  {
   "cell_type": "code",
   "execution_count": null,
   "id": "f16a1477-efdb-4f7f-a2d9-312d2f43952f",
   "metadata": {},
   "outputs": [],
   "source": []
  }
 ],
 "metadata": {
  "kernelspec": {
   "display_name": "Julia 1.11.5",
   "language": "julia",
   "name": "julia-1.11"
  },
  "language_info": {
   "file_extension": ".jl",
   "mimetype": "application/julia",
   "name": "julia",
   "version": "1.11.5"
  }
 },
 "nbformat": 4,
 "nbformat_minor": 5
}
