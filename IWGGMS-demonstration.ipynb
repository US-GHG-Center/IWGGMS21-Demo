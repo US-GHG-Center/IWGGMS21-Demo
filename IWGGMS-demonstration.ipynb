{
 "cells": [
  {
   "cell_type": "markdown",
   "id": "b24c28a6-e23f-4e69-b9c3-8cc148718cba",
   "metadata": {},
   "source": [
    "# IWGGMS 21 - June 9th-12th, Takamtasu, Japan\n",
    "\n",
    "Welcome to the interactive demonstration of our new retrieval toolkit, created by the University of Maryland and NASA Goddard Space Flight Center! In this demonstration, we will run an application to retrieve XCO$_2$ from an OCO-2 measurement. The application itself is an independent implementation of NASA's ACOS algorithm.\n",
    "\n",
    "**Purpose of this demonstration**\n",
    "\n",
    "\n",
    "<div class=\"alert alert-block alert-warning\">\n",
    "<b>Note regarding performance</b> When aerosols are retrieved in this demonstration set-up, an iteration with all three bands takes about one minute each. \n",
    "</div>\n",
    "\n",
    "**Acknowledgements and References**\n",
    "\n",
    "Spectroscopy tables were provided by NASA JPL"
   ]
  },
  {
   "cell_type": "markdown",
   "id": "1ed0201b-9c04-472d-85c5-92cf9dd2715f",
   "metadata": {},
   "source": [
    "## Set-up and choosing configuration"
   ]
  },
  {
   "cell_type": "code",
   "execution_count": null,
   "id": "680d71e3-bd28-4070-acd3-b6159fe7dce2",
   "metadata": {},
   "outputs": [],
   "source": [
    "# Point us to the location of the XRTM RT library\n",
    "if !(\"XRTM_PATH\" in ENV)\n",
    "    ENV[\"XRTM_PATH\"] = \"~/xrtm\"\n",
    "end\n",
    "\n",
    "# Let us observe the progress during the RT computations, set this to \"0\" if you don't want progress bars\n",
    "ENV[\"XRTM_PROGRESS\"] = \"1\"\n",
    "\n",
    "\n",
    "# For good font rendering, we suggest installing the \"JuliaMono\" font\n",
    "# which provides full support for the various Unicode glyphs.\n",
    "#ENV[\"GKS_FONTPATH\"] = \"~/Library/Fonts/\""
   ]
  },
  {
   "cell_type": "code",
   "execution_count": null,
   "id": "5fb17112-5221-407a-9954-e026bc48c81d",
   "metadata": {},
   "outputs": [],
   "source": [
    "# Load these modules ahead of running the application\n",
    "using Plots, LaTeXStrings\n",
    "gr()"
   ]
  },
  {
   "cell_type": "code",
   "execution_count": null,
   "id": "34f2386f-d5b8-4816-a38a-a902ba485857",
   "metadata": {},
   "outputs": [],
   "source": [
    "Plots.default()\n",
    "\n",
    "Plots.default(\n",
    "    fontfamily = \"JuliaMono-Regular\",\n",
    "    titlefont = (10, \"JuliaMono-Regular\"),\n",
    "    legendfont = (8, \"JuliaMono-Regular\"),\n",
    "    guidefont = (8, \"JuliaMono-Regular\", :black),\n",
    "    tickfont = (8, \"JuliaMono-Regular\", :black),\n",
    "    rightmargin=5Plots.mm,\n",
    "    leftmargin=5Plots.mm,\n",
    "    bottommargin=5Plots.mm\n",
    ")"
   ]
  },
  {
   "cell_type": "markdown",
   "id": "fd054e5f-d2e6-4a6b-9ebb-d600447d347b",
   "metadata": {},
   "source": [
    "## Run the retrieval"
   ]
  },
  {
   "cell_type": "markdown",
   "id": "afbf2fb0-a214-4ebf-913d-e9364c902c64",
   "metadata": {},
   "source": [
    "Below is the cell which runs the retrieval for an example scene, a real measurement from NASAs OCO-2. Feel free to experiment with any of these major settings. You can easily change the 3-band retrieval to a 2-band retrieval by changing the follwing line\n",
    "\n",
    "    \"--spec\", \"1,2,3\",\n",
    "\n",
    "to\n",
    "\n",
    "    \"--spec\", \"1,2\",\n",
    "\n",
    "which would only retrieve the O$_2$ A-band (1) and the Weak CO$_2$ band (2), omitting the Strong CO$_2$ band (3). Or you can do a single-band retrieval by just writing only one of the three numbers:\n",
    "\n",
    "    \"--spec\", \"3\",\n",
    "\n",
    "Note that the demonstration algorithm adjust the retrival state vector according to the band choices. For example, surface pressure is only retrieved when the O$_2$ A-band (1) is retrieved. Similarly, the CO$_2$ profile is only retrieved when either band 2 or 3 are included (or both).\n",
    "\n",
    "Further, you can switch off the aerosol retrieval by changing\n",
    "\n",
    "    \"--aerosols\", \"true\",\n",
    "\n",
    "to \n",
    "\n",
    "    \"--aerosols\", \"false\",\n",
    "\n"
   ]
  },
  {
   "cell_type": "markdown",
   "id": "7455ae68-6719-4991-aefa-ff844f468cfc",
   "metadata": {},
   "source": [
    "**Run the retrieval!**\n",
    "\n",
    "The cell below will execute the retrieval according to the set-up that is provided through the arguments in the list `my_args`. Some amount of output will follow, depending on how many iterations are performed etc."
   ]
  },
  {
   "cell_type": "code",
   "execution_count": null,
   "id": "9f865bda-ee84-4298-bfda-36e8a5f1077e",
   "metadata": {},
   "outputs": [],
   "source": [
    "# Define command-line arguments\n",
    "\n",
    "my_args = [\n",
    "    \"--solar_model\",  \"./example_data/l2_solar_model.h5\", # Path to the solar model file\n",
    "    \"--L1b\", \"./example_data/2021030111564431_inputs.h5\", # Path to the L1B data location\n",
    "    \"--L2Met\", \"./example_data/2021030111564431_inputs.h5\", # Path to the L2Met data location\n",
    "    \"--L2CPr\", \"./example_data/2021030111564431_inputs.h5\", # Path to the L2CPr data location\n",
    "    #######################################################\n",
    "    \"--sounding_id\", \"2021030111564431\", # Sounding ID to retrieve\n",
    "    \"--spec\", \"1,2,3\", # Which spectra to retrieve? 1 = O2-A, 2 = Weak CO2 (1.6 µm), 3 = Strong CO2 (2.06 µm)\n",
    "    \"--aerosols\", \"true\", # Co-retrieve aerosol parameters? (height, width, AOD)\n",
    "    \"--o2_scale\", \"1.0048\", # Spectroscopy scaling factor for Oxygen\n",
    "    \"--co2_scale_weak\", \"0.994\", # Spectroscopy scaling factor for CO2 for the weak CO2 band\n",
    "    \"--co2_scale_strong\", \"0.998\", # Spectroscopy scaling factor for CO2 for the strong CO2 band\n",
    "    \"--gamma\", \"1000.0\", # Levenberg-Marquardt γ parameter (to avoid diverging steps, we make this large)\n",
    "    \"--dsigma_scale\", \"5.0\", # dσ^2 ~ a parameter that controls convergence, make this bigger for faster convergence\n",
    "    \"--max_iterations\", \"10\", # Number of maximal iterations\n",
    "]\n",
    "\n",
    "# Get rid of existing command line arguments\n",
    "empty!(ARGS)\n",
    "\n",
    "# Push them in\n",
    "for a in my_args\n",
    "    push!(ARGS, a)\n",
    "end\n",
    "\n",
    "# Run the retrieval and return the Buffer and Solver objects! \n",
    "# (Note! This will take several minutes)\n",
    "@time buf, solver = include(\"acos-goddard/run.jl\");"
   ]
  },
  {
   "cell_type": "markdown",
   "id": "f9aef809-9885-4f23-971a-8cf1c492816a",
   "metadata": {},
   "source": [
    "**FINISHED**\n",
    "\n",
    "Once the above cell finishes computing, the retrieval was hopefully successful! From here on, we will examine the results and inspect some of the inputs that enter the retrieval algorithm."
   ]
  },
  {
   "cell_type": "markdown",
   "id": "5819e872-84f7-4230-a7fb-e5141f875b98",
   "metadata": {},
   "source": [
    "## Plot the multi-band fit as the inversion sees it\n",
    "\n",
    "The most obvious place to start analyzing the retrieval is to look at the spectral fit. Below we can plot the radiances measured by OCO-3 (in blue) and then overlay the last forward model computation that the retrieval produced."
   ]
  },
  {
   "cell_type": "code",
   "execution_count": null,
   "id": "9a6016e4-0b9a-4604-b4f1-8437e7c4b476",
   "metadata": {},
   "outputs": [],
   "source": [
    "# This grabs the measured and modeled radiances\n",
    "measured = RE.get_measured(solver);\n",
    "modelled = RE.get_modeled(solver);\n",
    "\n",
    "# Plot the multi-band fit\n",
    "Plots.plot(measured, size=(1100, 500), linewidth=2, label=\"Measured\", leftmargin=5Plots.mm, rightmargin=5Plots.mm);\n",
    "Plots.plot!(modelled, linestyle=:dash, label=\"Fit\")\n",
    "Plots.xlabel!(\"Spectral sample #\");\n",
    "Plots.ylabel!(\"Radiance\\n[ph μm⁻¹ m⁻² s⁻¹ sr⁻¹]\");\n",
    "Plots.title!(\"Full fit as seen by inversion algebra\")"
   ]
  },
  {
   "cell_type": "markdown",
   "id": "2bf0084d-d27f-449e-bafd-a1795179ec8f",
   "metadata": {},
   "source": [
    "## Closer look at the individual spectral windows and their spectral residuals"
   ]
  },
  {
   "cell_type": "code",
   "execution_count": null,
   "id": "5710348b-2797-4a77-9e8f-f7bc45686459",
   "metadata": {},
   "outputs": [],
   "source": [
    "chi2 = RE.calculate_chi2(solver);\n",
    "\n",
    "\n",
    "# Loop through each spectral window\n",
    "for swin in buf.spectral_window\n",
    "\n",
    "    # \n",
    "    rt = buf.rt[swin];\n",
    "\n",
    "    # For this spectral window, grab the wavelenght, measured radiance, model radiance,\n",
    "    # and noise-equivalent radiances. These will the vectors of the same length that can\n",
    "    # be used for plotting.\n",
    "    wavelength = RE.get_wavelength(solver, swin);\n",
    "    measured = RE.get_measured(solver, swin);\n",
    "    modeled = RE.get_modeled(solver, swin);\n",
    "    noise = RE.get_noise(solver, swin);\n",
    "\n",
    "    # We calculate the relative residuals\n",
    "    resid = @. (modeled - measured) / noise;\n",
    "\n",
    "    # Create a two-panel plot\n",
    "    \n",
    "    # First plot - measured and modeled radiance\n",
    "    p1 = Plots.plot(wavelength, measured, label=\"Measured\", linewidth=2,\n",
    "        leftmargin=5Plots.mm, rightmargin=5Plots.mm, bottommargin=5Plots.mm, size=(800, 500));\n",
    "    Plots.plot!(wavelength, modeled, label=\"Fit\", linestyle=:dash)\n",
    "    Plots.title!(@sprintf \"χ2 = %.2f\" chi2[swin])\n",
    "    Plots.ylabel!(\"Radiance\\n[$(rt.radiance_unit)]\")\n",
    "    \n",
    "    # Second plot - radiance residuals\n",
    "    p2 = Plots.plot(wavelength, resid, label=\"Residual\", linewidth=2,\n",
    "        leftmargin=5Plots.mm, rightmargin=5Plots.mm, bottommargin=5Plots.mm);\n",
    "    Plots.xlabel!(\"Wavelength [$(swin.ww_unit)]\")\n",
    "    Plots.ylabel!(\"Residual\\n(fraction of noise)\")\n",
    "    \n",
    "    \n",
    "    disp_plot = plot(p1, p2, layout=(2, 1))\n",
    "    display(disp_plot)\n",
    "    \n",
    "end"
   ]
  },
  {
   "cell_type": "markdown",
   "id": "b4d276c3-a180-4e40-9199-746277571ccc",
   "metadata": {},
   "source": [
    "## Posterior analysis"
   ]
  },
  {
   "cell_type": "markdown",
   "id": "7f53dd10-2563-4a2c-8672-d6d846487f72",
   "metadata": {},
   "source": [
    "We can look at the atmospheric state in terms of the Xgas, depending on which gases are present in our set-up. Remember that certain gases will be excluded depending on which bands were chosen for the retrieval."
   ]
  },
  {
   "cell_type": "code",
   "execution_count": null,
   "id": "9d393832-932d-4e63-8080-27440d1060c0",
   "metadata": {},
   "outputs": [],
   "source": [
    "# Calculate optimal estimation-related quantities..\n",
    "q = RE.calculate_OE_quantities(solver);\n",
    "h = RE.create_pressure_weights(buf.scene.atmosphere);\n",
    "gas_co2 = RE.get_gas_from_name(buf.scene.atmosphere, \"CO2\");\n",
    "\n",
    "idx = RE.idx_for_profile_sve(gas_co2, solver.state_vector);"
   ]
  },
  {
   "cell_type": "code",
   "execution_count": null,
   "id": "c9cd93c8-42c9-4a8a-9599-f28bb1577491",
   "metadata": {},
   "outputs": [],
   "source": [
    "RE.calculate_xgas(buf.scene.atmosphere)"
   ]
  },
  {
   "cell_type": "code",
   "execution_count": null,
   "id": "585ed396-d2f1-4fba-ac4b-667f00b1c85b",
   "metadata": {},
   "outputs": [],
   "source": [
    "# Calculate XCO2 uncert"
   ]
  },
  {
   "cell_type": "code",
   "execution_count": null,
   "id": "97c0743b-27ef-4c6c-b5e0-831376fd0579",
   "metadata": {},
   "outputs": [],
   "source": [
    "sqrt(h' * (q.Shat[idx, idx] * h)) # ucert in ppm"
   ]
  },
  {
   "cell_type": "code",
   "execution_count": null,
   "id": "29e8f582-41e3-4e8b-992b-9d4cd015e586",
   "metadata": {},
   "outputs": [],
   "source": [
    "# Do a correlation matrix based on posterior covariance\n",
    "C = similar(q.Shat);\n",
    "for idx in CartesianIndices(C)\n",
    "    i, j = idx.I\n",
    "\n",
    "    C[i,j] = q.Shat[i,j] / sqrt(q.Shat[i,i] * q.Shat[j,j])\n",
    "\n",
    "end\n",
    "\n",
    "Plots.heatmap(C, yflip=true, clims=(-1,1), c=:RdBu_5,\n",
    "    rightmargin=20Plots.mm,\n",
    "    colorbar_title=\" \\n\\nCorrelation coefficient\", colorbar_titlefont=(8, \"JuliaMono-Regular\"))\n",
    "Plots.xlabel!(\"State vector element #\")\n",
    "Plots.ylabel!(\"State vector element #\")"
   ]
  },
  {
   "cell_type": "code",
   "execution_count": null,
   "id": "73301d53-fe34-4e5c-98f3-1b93b73e3caf",
   "metadata": {},
   "outputs": [],
   "source": []
  },
  {
   "cell_type": "code",
   "execution_count": null,
   "id": "49de552f-a26e-49c7-bdcd-b447af616a5c",
   "metadata": {},
   "outputs": [],
   "source": [
    "#=\n",
    "    Calculate and plot the XCO2 averaging kernel (normalized)\n",
    "=#\n",
    "\n",
    "# This grabs the indices within the state vector that correspond \n",
    "# to the CO2 profile.\n",
    "idx = RE.idx_for_profile_sve(gas_co2, solver.state_vector)\n",
    "\n",
    "if length(idx) > 0\n",
    "\n",
    "    # Calculate the normalized averaging kernel\n",
    "    # (remember, we calculated the pressure weights as `h` before)\n",
    "    ak_norm = (h' * q.AK[idx,idx])' ./ h\n",
    "    \n",
    "    # Plot it!\n",
    "    Plots.plot(\n",
    "        ak_norm,\n",
    "        buf.scene.atmosphere.pressure_levels,\n",
    "        marker=:o,\n",
    "        yflip=true,\n",
    "        label=nothing,\n",
    "        size=(400,400)\n",
    "        )\n",
    "    Plots.xlabel!(\"Normalized Averaging Kernel\")\n",
    "    Plots.ylabel!(\"Pressure level [$(buf.scene.atmosphere.pressure_unit)]\")\n",
    "\n",
    "else\n",
    "\n",
    "    @warn \"Sorry - cannot plot XCO2 AK\"\n",
    "    @warn \"Probably no CO2 band retrieved..\"\n",
    "\n",
    "end"
   ]
  },
  {
   "cell_type": "code",
   "execution_count": null,
   "id": "66bb09ec-4909-4fd8-8225-eab78d274b6b",
   "metadata": {},
   "outputs": [],
   "source": []
  },
  {
   "cell_type": "code",
   "execution_count": null,
   "id": "5bb04431-67ab-41dd-a7e7-e17f3badb704",
   "metadata": {},
   "outputs": [],
   "source": []
  }
 ],
 "metadata": {
  "kernelspec": {
   "display_name": "Julia 1.11.1",
   "language": "julia",
   "name": "julia-1.11"
  },
  "language_info": {
   "file_extension": ".jl",
   "mimetype": "application/julia",
   "name": "julia",
   "version": "1.11.1"
  }
 },
 "nbformat": 4,
 "nbformat_minor": 5
}
